{
 "cells": [
  {
   "cell_type": "code",
   "execution_count": 1,
   "metadata": {
    "collapsed": true
   },
   "outputs": [],
   "source": [
    "from __future__ import division\n",
    "import os\n",
    "import sys\n",
    "\n",
    "import roman\n",
    "\n",
    "import numpy as np\n",
    "import pandas as pd\n",
    "\n",
    "from Bio import SeqIO"
   ]
  },
  {
   "cell_type": "code",
   "execution_count": 2,
   "metadata": {},
   "outputs": [],
   "source": [
    "scerGenes = pd.read_csv('data/scer/S_cerevisiae_genes.bed', sep='\\t', header=None, usecols=[0,1,2,3,5], names=['chrom','chrom_start','chrom_end','gene','strand']).sort_values(by='gene')\n",
    "scerGenes['chrom'] = scerGenes.apply(lambda x:'Scer_{}'.format(roman.fromRoman(x['chrom'].strip('chr'))), axis=1)"
   ]
  },
  {
   "cell_type": "code",
   "execution_count": 3,
   "metadata": {},
   "outputs": [
    {
     "data": {
      "text/html": [
       "<div>\n",
       "<table border=\"1\" class=\"dataframe\">\n",
       "  <thead>\n",
       "    <tr style=\"text-align: right;\">\n",
       "      <th></th>\n",
       "      <th>chrom</th>\n",
       "      <th>chrom_start</th>\n",
       "      <th>chrom_end</th>\n",
       "      <th>gene</th>\n",
       "      <th>strand</th>\n",
       "    </tr>\n",
       "  </thead>\n",
       "  <tbody>\n",
       "    <tr>\n",
       "      <th>496</th>\n",
       "      <td>Scer_1</td>\n",
       "      <td>147593</td>\n",
       "      <td>151166</td>\n",
       "      <td>YAL001C</td>\n",
       "      <td>-</td>\n",
       "    </tr>\n",
       "    <tr>\n",
       "      <th>2715</th>\n",
       "      <td>Scer_1</td>\n",
       "      <td>143706</td>\n",
       "      <td>147531</td>\n",
       "      <td>YAL002W</td>\n",
       "      <td>+</td>\n",
       "    </tr>\n",
       "    <tr>\n",
       "      <th>2926</th>\n",
       "      <td>Scer_1</td>\n",
       "      <td>142173</td>\n",
       "      <td>143160</td>\n",
       "      <td>YAL003W</td>\n",
       "      <td>+</td>\n",
       "    </tr>\n",
       "    <tr>\n",
       "      <th>5244</th>\n",
       "      <td>Scer_1</td>\n",
       "      <td>139502</td>\n",
       "      <td>141431</td>\n",
       "      <td>YAL005C</td>\n",
       "      <td>-</td>\n",
       "    </tr>\n",
       "    <tr>\n",
       "      <th>4584</th>\n",
       "      <td>Scer_1</td>\n",
       "      <td>137697</td>\n",
       "      <td>138345</td>\n",
       "      <td>YAL007C</td>\n",
       "      <td>-</td>\n",
       "    </tr>\n",
       "  </tbody>\n",
       "</table>\n",
       "</div>"
      ],
      "text/plain": [
       "       chrom  chrom_start  chrom_end     gene strand\n",
       "496   Scer_1       147593     151166  YAL001C      -\n",
       "2715  Scer_1       143706     147531  YAL002W      +\n",
       "2926  Scer_1       142173     143160  YAL003W      +\n",
       "5244  Scer_1       139502     141431  YAL005C      -\n",
       "4584  Scer_1       137697     138345  YAL007C      -"
      ]
     },
     "execution_count": 3,
     "metadata": {},
     "output_type": "execute_result"
    }
   ],
   "source": [
    "scerGenes.head()"
   ]
  },
  {
   "cell_type": "code",
   "execution_count": 4,
   "metadata": {
    "collapsed": true
   },
   "outputs": [],
   "source": [
    "sparGenes = pd.read_csv('data/spar/S_paradoxus_genes.bed', sep='\\t', header=None, usecols=[0,1,2,3,5], names=['chrom','chrom_start','chrom_end','gene','strand']).sort_values(by='gene')\n",
    "sparGenes['gene'] = sparGenes.apply(lambda x:x['gene'].split('.')[0], axis=1)"
   ]
  },
  {
   "cell_type": "code",
   "execution_count": 5,
   "metadata": {},
   "outputs": [
    {
     "data": {
      "text/html": [
       "<div>\n",
       "<table border=\"1\" class=\"dataframe\">\n",
       "  <thead>\n",
       "    <tr style=\"text-align: right;\">\n",
       "      <th></th>\n",
       "      <th>chrom</th>\n",
       "      <th>chrom_start</th>\n",
       "      <th>chrom_end</th>\n",
       "      <th>gene</th>\n",
       "      <th>strand</th>\n",
       "    </tr>\n",
       "  </thead>\n",
       "  <tbody>\n",
       "    <tr>\n",
       "      <th>496</th>\n",
       "      <td>Spar_1</td>\n",
       "      <td>122842</td>\n",
       "      <td>126415</td>\n",
       "      <td>YAL001C</td>\n",
       "      <td>-</td>\n",
       "    </tr>\n",
       "    <tr>\n",
       "      <th>2715</th>\n",
       "      <td>Spar_1</td>\n",
       "      <td>118955</td>\n",
       "      <td>122774</td>\n",
       "      <td>YAL002W</td>\n",
       "      <td>+</td>\n",
       "    </tr>\n",
       "    <tr>\n",
       "      <th>2926</th>\n",
       "      <td>Spar_1</td>\n",
       "      <td>117437</td>\n",
       "      <td>118422</td>\n",
       "      <td>YAL003W</td>\n",
       "      <td>+</td>\n",
       "    </tr>\n",
       "    <tr>\n",
       "      <th>5244</th>\n",
       "      <td>Spar_1</td>\n",
       "      <td>114759</td>\n",
       "      <td>116688</td>\n",
       "      <td>YAL005C</td>\n",
       "      <td>-</td>\n",
       "    </tr>\n",
       "    <tr>\n",
       "      <th>4584</th>\n",
       "      <td>Spar_1</td>\n",
       "      <td>112857</td>\n",
       "      <td>113505</td>\n",
       "      <td>YAL007C</td>\n",
       "      <td>-</td>\n",
       "    </tr>\n",
       "  </tbody>\n",
       "</table>\n",
       "</div>"
      ],
      "text/plain": [
       "       chrom  chrom_start  chrom_end     gene strand\n",
       "496   Spar_1       122842     126415  YAL001C      -\n",
       "2715  Spar_1       118955     122774  YAL002W      +\n",
       "2926  Spar_1       117437     118422  YAL003W      +\n",
       "5244  Spar_1       114759     116688  YAL005C      -\n",
       "4584  Spar_1       112857     113505  YAL007C      -"
      ]
     },
     "execution_count": 5,
     "metadata": {},
     "output_type": "execute_result"
    }
   ],
   "source": [
    "sparGenes.head()"
   ]
  },
  {
   "cell_type": "code",
   "execution_count": 6,
   "metadata": {
    "collapsed": true
   },
   "outputs": [],
   "source": [
    "COMPLEMENTS = {\n",
    "    'A':'T',\n",
    "    'T':'A',\n",
    "    'C':'G',\n",
    "    'G':'C',\n",
    "    'N':'N',\n",
    "}\n",
    "\n",
    "def get_reverse_complement(seq):\n",
    "    return ''.join(map(COMPLEMENTS.get, seq.upper()[::-1]))"
   ]
  },
  {
   "cell_type": "code",
   "execution_count": 7,
   "metadata": {
    "collapsed": true
   },
   "outputs": [],
   "source": [
    "scerRef = SeqIO.to_dict(SeqIO.parse('data/scer/S_cerevisiae.fa', 'fasta'))\n",
    "sparRef = SeqIO.to_dict(SeqIO.parse('data/spar/S_paradoxus.fa', 'fasta'))"
   ]
  },
  {
   "cell_type": "code",
   "execution_count": 13,
   "metadata": {},
   "outputs": [],
   "source": [
    "with open('data/scer/scer_transcriptome.fa', 'w') as fh:\n",
    "    for ix,row in scerGenes.iterrows():\n",
    "        forwardSeq = scerRef[row['chrom']].seq[row['chrom_start']:row['chrom_end']]\n",
    "        seq = forwardSeq if row['strand'] == '+' else get_reverse_complement(forwardSeq)\n",
    "        fh.write('>{}\\n'.format(row['gene']))\n",
    "        fh.write('{}\\n'.format(seq))"
   ]
  },
  {
   "cell_type": "code",
   "execution_count": 14,
   "metadata": {},
   "outputs": [],
   "source": [
    "with open('data/spar/spar_transcriptome.fa', 'w') as fh:\n",
    "    for ix,row in sparGenes.iterrows():\n",
    "        forwardSeq = sparRef[row['chrom']].seq[row['chrom_start']:row['chrom_end']]\n",
    "        seq = forwardSeq if row['strand'] == '+' else get_reverse_complement(forwardSeq)\n",
    "        fh.write('>{}\\n'.format(row['gene']))\n",
    "        fh.write('{}\\n'.format(seq))"
   ]
  }
 ],
 "metadata": {
  "kernelspec": {
   "display_name": "Python 2",
   "language": "python",
   "name": "python2"
  },
  "language_info": {
   "codemirror_mode": {
    "name": "ipython",
    "version": 2
   },
   "file_extension": ".py",
   "mimetype": "text/x-python",
   "name": "python",
   "nbconvert_exporter": "python",
   "pygments_lexer": "ipython2",
   "version": "2.7.6"
  }
 },
 "nbformat": 4,
 "nbformat_minor": 2
}
