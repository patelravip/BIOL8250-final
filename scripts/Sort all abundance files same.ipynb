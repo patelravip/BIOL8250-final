{
 "cells": [
  {
   "cell_type": "code",
   "execution_count": 1,
   "metadata": {
    "collapsed": true
   },
   "outputs": [],
   "source": [
    "from __future__ import division\n",
    "import os\n",
    "import sys\n",
    "\n",
    "import numpy as np\n",
    "import pandas as pd"
   ]
  },
  {
   "cell_type": "code",
   "execution_count": 8,
   "metadata": {},
   "outputs": [],
   "source": [
    "for spp in ['scer','spar']:\n",
    "    for analysis in ['rna_seq','ribo_seq']:\n",
    "        for rep in ['rep1','rep2']:\n",
    "            fn = 'data/{}/{}/{}_{}/abundance.tsv'.format(spp,analysis,spp,rep)\n",
    "            df = pd.read_csv(fn, sep='\\t')\n",
    "            df.sort_values(by='target_id').to_csv(fn.replace('abundance.tsv','abundance.2.tsv'), sep='\\t', index=False)"
   ]
  }
 ],
 "metadata": {
  "kernelspec": {
   "display_name": "Python 2",
   "language": "python",
   "name": "python2"
  },
  "language_info": {
   "codemirror_mode": {
    "name": "ipython",
    "version": 2
   },
   "file_extension": ".py",
   "mimetype": "text/x-python",
   "name": "python",
   "nbconvert_exporter": "python",
   "pygments_lexer": "ipython2",
   "version": "2.7.6"
  }
 },
 "nbformat": 4,
 "nbformat_minor": 2
}
