{
 "cells": [
  {
   "cell_type": "code",
   "execution_count": 1,
   "metadata": {
    "collapsed": true
   },
   "outputs": [],
   "source": [
    "from __future__ import division\n",
    "import os\n",
    "import sys\n",
    "\n",
    "from glob import glob"
   ]
  },
  {
   "cell_type": "code",
   "execution_count": 2,
   "metadata": {
    "collapsed": true
   },
   "outputs": [],
   "source": [
    "fastqFiles = glob('data/*/*/*.fastq.gz')"
   ]
  },
  {
   "cell_type": "code",
   "execution_count": 5,
   "metadata": {},
   "outputs": [
    {
     "data": {
      "text/plain": [
       "['data/scer/ribo_seq/Scer_ribo_seq_2.fastq.gz',\n",
       " 'data/scer/ribo_seq/Scer_ribo_seq_1.fastq.gz',\n",
       " 'data/scer/rna_seq/Scer_RNA_seq_2.fastq.gz',\n",
       " 'data/scer/rna_seq/Scer_RNA_seq_1.fastq.gz',\n",
       " 'data/spar/ribo_seq/Spar_ribo_seq_2.fastq.gz',\n",
       " 'data/spar/ribo_seq/Spar_ribo_seq_1.fastq.gz',\n",
       " 'data/spar/rna_seq/Spar_RNA_seq_1.fastq.gz',\n",
       " 'data/spar/rna_seq/Spar_RNA_seq_2.fastq.gz']"
      ]
     },
     "execution_count": 5,
     "metadata": {},
     "output_type": "execute_result"
    }
   ],
   "source": [
    "fastqFiles"
   ]
  },
  {
   "cell_type": "code",
   "execution_count": 14,
   "metadata": {},
   "outputs": [
    {
     "name": "stdout",
     "output_type": "stream",
     "text": [
      "kallisto quant -i data/scer/scer_transcriptome.idx -o data/scer/ribo_seq/rep2 -t 8 --single -l 180 -s 20 data/scer/ribo_seq/Scer_ribo_seq_2.fastq.gz\n",
      "kallisto quant -i data/scer/scer_transcriptome.idx -o data/scer/ribo_seq/rep1 -t 8 --single -l 180 -s 20 data/scer/ribo_seq/Scer_ribo_seq_1.fastq.gz\n",
      "kallisto quant -i data/scer/scer_transcriptome.idx -o data/scer/rna_seq/rep2 -t 8 --single -l 180 -s 20 data/scer/rna_seq/Scer_RNA_seq_2.fastq.gz\n",
      "kallisto quant -i data/scer/scer_transcriptome.idx -o data/scer/rna_seq/rep1 -t 8 --single -l 180 -s 20 data/scer/rna_seq/Scer_RNA_seq_1.fastq.gz\n",
      "kallisto quant -i data/spar/spar_transcriptome.idx -o data/spar/ribo_seq/rep2 -t 8 --single -l 180 -s 20 data/spar/ribo_seq/Spar_ribo_seq_2.fastq.gz\n",
      "kallisto quant -i data/spar/spar_transcriptome.idx -o data/spar/ribo_seq/rep1 -t 8 --single -l 180 -s 20 data/spar/ribo_seq/Spar_ribo_seq_1.fastq.gz\n",
      "kallisto quant -i data/spar/spar_transcriptome.idx -o data/spar/rna_seq/rep1 -t 8 --single -l 180 -s 20 data/spar/rna_seq/Spar_RNA_seq_1.fastq.gz\n",
      "kallisto quant -i data/spar/spar_transcriptome.idx -o data/spar/rna_seq/rep2 -t 8 --single -l 180 -s 20 data/spar/rna_seq/Spar_RNA_seq_2.fastq.gz\n"
     ]
    }
   ],
   "source": [
    "cmds = []\n",
    "for fq in fastqFiles:\n",
    "    basedir = os.path.dirname(fq)\n",
    "    spp = os.path.basename(fq).split('_',1)[0].lower()\n",
    "    idx = os.path.join(os.path.dirname(basedir), '{}_transcriptome.idx'.format(spp))\n",
    "    rep = 'rep{}'.format(fq.rsplit('.',2)[0][-1])\n",
    "    outdir = os.path.join(basedir,rep)\n",
    "    cmd = 'kallisto quant -i {index} -o {output} -t 8 --single -l 180 -s 20 {fn}'.format(index=idx, output=outdir, fn=fq)\n",
    "    print cmd\n",
    "    cmds.append(cmd)"
   ]
  },
  {
   "cell_type": "code",
   "execution_count": 15,
   "metadata": {},
   "outputs": [
    {
     "name": "stdout",
     "output_type": "stream",
     "text": [
      "kallisto quant -i data/scer/scer_transcriptome.idx -o data/scer/ribo_seq/rep2 -t 8 --single -l 180 -s 20 data/scer/ribo_seq/Scer_ribo_seq_2.fastq.gz\n",
      "kallisto quant -i data/scer/scer_transcriptome.idx -o data/scer/ribo_seq/rep1 -t 8 --single -l 180 -s 20 data/scer/ribo_seq/Scer_ribo_seq_1.fastq.gz\n",
      "kallisto quant -i data/scer/scer_transcriptome.idx -o data/scer/rna_seq/rep2 -t 8 --single -l 180 -s 20 data/scer/rna_seq/Scer_RNA_seq_2.fastq.gz\n",
      "kallisto quant -i data/scer/scer_transcriptome.idx -o data/scer/rna_seq/rep1 -t 8 --single -l 180 -s 20 data/scer/rna_seq/Scer_RNA_seq_1.fastq.gz\n",
      "kallisto quant -i data/spar/spar_transcriptome.idx -o data/spar/ribo_seq/rep2 -t 8 --single -l 180 -s 20 data/spar/ribo_seq/Spar_ribo_seq_2.fastq.gz\n",
      "kallisto quant -i data/spar/spar_transcriptome.idx -o data/spar/ribo_seq/rep1 -t 8 --single -l 180 -s 20 data/spar/ribo_seq/Spar_ribo_seq_1.fastq.gz\n",
      "kallisto quant -i data/spar/spar_transcriptome.idx -o data/spar/rna_seq/rep1 -t 8 --single -l 180 -s 20 data/spar/rna_seq/Spar_RNA_seq_1.fastq.gz\n",
      "kallisto quant -i data/spar/spar_transcriptome.idx -o data/spar/rna_seq/rep2 -t 8 --single -l 180 -s 20 data/spar/rna_seq/Spar_RNA_seq_2.fastq.gz\n",
      "CPU times: user 7.67 ms, sys: 18.8 ms, total: 26.5 ms\n",
      "Wall time: 2min 50s\n"
     ]
    }
   ],
   "source": [
    "%%time\n",
    "for cmd in cmds:\n",
    "    print cmd\n",
    "    os.system(cmd)"
   ]
  },
  {
   "cell_type": "code",
   "execution_count": null,
   "metadata": {
    "collapsed": true
   },
   "outputs": [],
   "source": []
  }
 ],
 "metadata": {
  "kernelspec": {
   "display_name": "Python 2",
   "language": "python",
   "name": "python2"
  },
  "language_info": {
   "codemirror_mode": {
    "name": "ipython",
    "version": 2
   },
   "file_extension": ".py",
   "mimetype": "text/x-python",
   "name": "python",
   "nbconvert_exporter": "python",
   "pygments_lexer": "ipython2",
   "version": "2.7.6"
  }
 },
 "nbformat": 4,
 "nbformat_minor": 2
}
